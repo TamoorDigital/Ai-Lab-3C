{
 "cells": [
  {
   "cell_type": "code",
   "execution_count": 3,
   "id": "31c8efa6",
   "metadata": {},
   "outputs": [
    {
     "name": "stdout",
     "output_type": "stream",
     "text": [
      "DFS without stack:\n",
      "X Y P Q Z R "
     ]
    }
   ],
   "source": [
    "\n",
    "g = {\n",
    "    'X': ['Y', 'Z'],\n",
    "    'Y': ['P', 'Q'],\n",
    "    'Z': ['R'],\n",
    "    'P': [],\n",
    "    'Q': [],\n",
    "    'R': []\n",
    "}\n",
    "\n",
    "def dfs(g, n, vis=None):\n",
    "    if vis is None:\n",
    "        vis = []\n",
    "    if n not in vis:\n",
    "        print(n, end=\" \")\n",
    "        vis.append(n)\n",
    "        for nxt in g[n]:\n",
    "            dfs(g, nxt, vis)\n",
    "\n",
    "print(\"DFS without stack:\")\n",
    "dfs(g, 'X')\n"
   ]
  },
  {
   "cell_type": "code",
   "execution_count": 4,
   "id": "61fbb681",
   "metadata": {},
   "outputs": [
    {
     "name": "stdout",
     "output_type": "stream",
     "text": [
      "DFS (with stack):\n",
      "X Y P Q Z R "
     ]
    }
   ],
   "source": [
    "\n",
    "g = {\n",
    "    'X': ['Y', 'Z'],\n",
    "    'Y': ['P', 'Q'],\n",
    "    'Z': ['R'],\n",
    "    'P': [],\n",
    "    'Q': [],\n",
    "    'R': []\n",
    "}\n",
    "\n",
    "def dfs_stack(g, start):\n",
    "    vis = []\n",
    "    stk = [start]\n",
    "\n",
    "    while stk:\n",
    "        n = stk.pop()\n",
    "        if n not in vis:\n",
    "            print(n, end=\" \")\n",
    "            vis.append(n)\n",
    "            for nxt in reversed(g[n]):\n",
    "                stk.append(nxt)\n",
    "\n",
    "print(\"DFS (with stack):\")\n",
    "dfs_stack(g, 'X')\n"
   ]
  }
 ],
 "metadata": {
  "kernelspec": {
   "display_name": "base",
   "language": "python",
   "name": "python3"
  },
  "language_info": {
   "codemirror_mode": {
    "name": "ipython",
    "version": 3
   },
   "file_extension": ".py",
   "mimetype": "text/x-python",
   "name": "python",
   "nbconvert_exporter": "python",
   "pygments_lexer": "ipython3",
   "version": "3.13.5"
  }
 },
 "nbformat": 4,
 "nbformat_minor": 5
}
