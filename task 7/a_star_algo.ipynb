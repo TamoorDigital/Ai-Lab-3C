{
 "cells": [
  {
   "cell_type": "code",
   "execution_count": 1,
   "id": "30a430f1",
   "metadata": {},
   "outputs": [
    {
     "name": "stdout",
     "output_type": "stream",
     "text": [
      "Shortest path: [(0, 0), (1, 0), (2, 0), (2, 1), (2, 2), (3, 2), (3, 3)]\n"
     ]
    }
   ],
   "source": [
    "def manhattan(p1, p2):\n",
    "    return abs(p1[0] - p2[0]) + abs(p1[1] - p2[1])\n",
    "\n",
    "def shortest_path(grid, start, end):\n",
    "    open_list = [start]\n",
    "    came_from = {}\n",
    "    g = {start: 0}\n",
    "    f = {start: manhattan(start, end)}\n",
    "\n",
    "    while open_list:\n",
    "        curr = min(open_list, key=lambda x: f.get(x, float('inf')))\n",
    "        if curr == end:\n",
    "            path = []\n",
    "            while curr in came_from:\n",
    "                path.append(curr)\n",
    "                curr = came_from[curr]\n",
    "            path.append(start)\n",
    "            return path[::-1]\n",
    "\n",
    "        open_list.remove(curr)\n",
    "        x, y = curr\n",
    "        for dx, dy in [(0,1), (1,0), (0,-1), (-1,0)]:\n",
    "            nx, ny = x + dx, y + dy\n",
    "            nb = (nx, ny)\n",
    "            if 0 <= nx < len(grid) and 0 <= ny < len(grid[0]) and grid[nx][ny] == 0:\n",
    "                temp_g = g[curr] + 1\n",
    "                if nb not in g or temp_g < g[nb]:\n",
    "                    came_from[nb] = curr\n",
    "                    g[nb] = temp_g\n",
    "                    f[nb] = temp_g + manhattan(nb, end)\n",
    "                    if nb not in open_list:\n",
    "                        open_list.append(nb)\n",
    "    return None\n",
    "\n",
    "grid = [\n",
    "    [0, 0, 1, 0],\n",
    "    [0, 1, 0, 0],\n",
    "    [0, 0, 0, 1],\n",
    "    [1, 0, 0, 0]\n",
    "]\n",
    "\n",
    "start = (0, 0)\n",
    "end = (3, 3)\n",
    "\n",
    "path = shortest_path(grid, start, end)\n",
    "print(\"Shortest path:\", path)\n"
   ]
  }
 ],
 "metadata": {
  "kernelspec": {
   "display_name": "base",
   "language": "python",
   "name": "python3"
  },
  "language_info": {
   "codemirror_mode": {
    "name": "ipython",
    "version": 3
   },
   "file_extension": ".py",
   "mimetype": "text/x-python",
   "name": "python",
   "nbconvert_exporter": "python",
   "pygments_lexer": "ipython3",
   "version": "3.13.5"
  }
 },
 "nbformat": 4,
 "nbformat_minor": 5
}
