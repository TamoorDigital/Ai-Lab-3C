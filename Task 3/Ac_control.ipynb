{
 "cells": [
  {
   "cell_type": "code",
   "execution_count": 1,
   "id": "9d3c2ba4",
   "metadata": {},
   "outputs": [
    {
     "name": "stdout",
     "output_type": "stream",
     "text": [
      "Living Room: 24°C - AC is ON\n",
      "Bedroom: 20°C - AC is OFF\n",
      "Kitchen: 27°C - AC is ON\n",
      "Office: 22°C - AC is OFF\n"
     ]
    }
   ],
   "source": [
    "# ac_controller.py\n",
    "\n",
    "class AirConditioner:\n",
    "    \"\"\"\n",
    "    A simple Air Conditioner control simulation that logs room temperatures\n",
    "    and AC status (ON/OFF) based on a desired threshold temperature.\n",
    "    \"\"\"\n",
    "\n",
    "    def __init__(self, target_temp: int, log_file: str = \"ac_log3.txt\"):\n",
    "        self.target_temp = target_temp\n",
    "        self.log_file = log_file\n",
    "        self.last_action = None\n",
    "\n",
    "        # Initialize log file\n",
    "        with open(self.log_file, \"w\") as file:\n",
    "            file.write(\"Room\\tTemperature (°C)\\tAction\\n\")\n",
    "\n",
    "    def control_ac(self, room_name: str, current_temp: int):\n",
    "        \"\"\"\n",
    "        Decide whether to turn the AC ON or OFF based on the current temperature,\n",
    "        print the result, and log it into a text file.\n",
    "        \"\"\"\n",
    "        action = \"AC is ON\" if current_temp > self.target_temp else \"AC is OFF\"\n",
    "\n",
    "        # Determine if action changed since last check\n",
    "        if action != self.last_action:\n",
    "            result = f\"{room_name}: {current_temp}°C - {action}\"\n",
    "        else:\n",
    "            result = f\"{room_name}: {current_temp}°C - No change (AC remains {action.split()[-1]})\"\n",
    "\n",
    "        # Print and log the result\n",
    "        print(result)\n",
    "        with open(self.log_file, \"a\") as file:\n",
    "            file.write(result + \"\\n\")\n",
    "\n",
    "        # Update last action\n",
    "        self.last_action = action\n",
    "\n",
    "\n",
    "# Example usage\n",
    "if __name__ == \"__main__\":\n",
    "    rooms = {\n",
    "        \"Living Room\": 24,\n",
    "        \"Bedroom\": 20,\n",
    "        \"Kitchen\": 27,\n",
    "        \"Office\": 22\n",
    "    }\n",
    "\n",
    "    controller = AirConditioner(target_temp=22)\n",
    "\n",
    "    for room, temperature in rooms.items():\n",
    "        controller.control_ac(room, temperature)\n"
   ]
  }
 ],
 "metadata": {
  "kernelspec": {
   "display_name": "base",
   "language": "python",
   "name": "python3"
  },
  "language_info": {
   "codemirror_mode": {
    "name": "ipython",
    "version": 3
   },
   "file_extension": ".py",
   "mimetype": "text/x-python",
   "name": "python",
   "nbconvert_exporter": "python",
   "pygments_lexer": "ipython3",
   "version": "3.13.5"
  }
 },
 "nbformat": 4,
 "nbformat_minor": 5
}
