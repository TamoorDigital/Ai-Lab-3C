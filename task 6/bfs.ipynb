{
 "cells": [
  {
   "cell_type": "code",
   "execution_count": 2,
   "id": "a4d2dd7e",
   "metadata": {},
   "outputs": [
    {
     "name": "stdout",
     "output_type": "stream",
     "text": [
      "BFS (without queue):\n",
      "X Y Z P Q R "
     ]
    }
   ],
   "source": [
    "g = {\n",
    "    'X': ['Y', 'Z'],\n",
    "    'Y': ['P', 'Q'],\n",
    "    'Z': ['R'],\n",
    "    'P': [],\n",
    "    'Q': [],\n",
    "    'R': []\n",
    "}\n",
    "\n",
    "def bfs_no_queue(g, nodes, v=None):\n",
    "    if v is None:\n",
    "        v = []\n",
    "    if not nodes:\n",
    "        return\n",
    "    nxt = []\n",
    "    for n in nodes:\n",
    "        if n not in v:\n",
    "            print(n, end=\" \")\n",
    "            v.append(n)\n",
    "            nxt.extend(g[n])\n",
    "    bfs_no_q(g, nxt, v)\n",
    "\n",
    "print(\"BFS (without queue):\")\n",
    "bfs_no_queue(g, ['X'])\n"
   ]
  },
  {
   "cell_type": "code",
   "execution_count": 4,
   "id": "241c2388",
   "metadata": {},
   "outputs": [
    {
     "name": "stdout",
     "output_type": "stream",
     "text": [
      "BFS (with queue):\n",
      "A B C D E F "
     ]
    }
   ],
   "source": [
    "g = {\n",
    "    'A': ['B', 'C'],\n",
    "    'B': ['D'],\n",
    "    'C': ['E', 'F'],\n",
    "    'D': [],\n",
    "    'E': [],\n",
    "    'F': []\n",
    "}\n",
    "\n",
    "def bfs_queue(g, start):\n",
    "    v = []\n",
    "    q = [start]\n",
    "\n",
    "    while q:\n",
    "        n = q.pop(0)\n",
    "        if n not in v:\n",
    "            print(n, end=\" \")\n",
    "            v.append(n)\n",
    "            q.extend(g[n])\n",
    "\n",
    "print(\"BFS (with queue):\")\n",
    "bfs_queue(g, 'A')\n"
   ]
  }
 ],
 "metadata": {
  "kernelspec": {
   "display_name": "base",
   "language": "python",
   "name": "python3"
  },
  "language_info": {
   "codemirror_mode": {
    "name": "ipython",
    "version": 3
   },
   "file_extension": ".py",
   "mimetype": "text/x-python",
   "name": "python",
   "nbconvert_exporter": "python",
   "pygments_lexer": "ipython3",
   "version": "3.13.5"
  }
 },
 "nbformat": 4,
 "nbformat_minor": 5
}
