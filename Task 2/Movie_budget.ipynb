{
 "cells": [
  {
   "cell_type": "code",
   "execution_count": 2,
   "id": "6c13a34f",
   "metadata": {},
   "outputs": [
    {
     "name": "stdout",
     "output_type": "stream",
     "text": [
      "\n",
      "Movies with above-average budgets:\n",
      "----------------------------------------\n",
      "Avatar: The Way of Water → $350,000,000 (Above average by $157,142,857.14)\n",
      "Spider-Man: No Way Home → $200,000,000 (Above average by $7,142,857.14)\n",
      "\n",
      "----------------------------------------\n",
      "Total movies analyzed: 7\n",
      "Average movie budget: $192,857,142.86\n",
      "Movies above average budget: 2\n"
     ]
    }
   ],
   "source": [
    "# movie_budget_analyzer.py\n",
    "\n",
    "# List of movies with their production budgets (in USD)\n",
    "movies = [\n",
    "    (\"Interstellar\", 165_000_000),\n",
    "    (\"The Dark Knight\", 185_000_000),\n",
    "    (\"Inception\", 160_000_000),\n",
    "    (\"Avatar: The Way of Water\", 350_000_000),\n",
    "    (\"Dune: Part Two\", 190_000_000),\n",
    "    (\"Oppenheimer\", 100_000_000),\n",
    "    (\"Spider-Man: No Way Home\", 200_000_000)\n",
    "]\n",
    "\n",
    "# Ask user if they want to add more movies\n",
    "add_more = input(\"Would you like to add more movies? (yes/no): \").strip().lower()\n",
    "\n",
    "if add_more == \"yes\":\n",
    "    try:\n",
    "        count = int(input(\"How many movies do you want to add? \").strip())\n",
    "\n",
    "        for i in range(count):\n",
    "            print(f\"\\nEnter details for movie {i + 1}:\")\n",
    "            name = input(\"Movie name: \").strip()\n",
    "            budget = int(input(\"Movie budget (in USD): \").strip())\n",
    "            movies.append((name, budget))\n",
    "    except ValueError:\n",
    "        print(\"Invalid input! Please enter numeric values for the budget.\")\n",
    "\n",
    "# Calculate total and average budget\n",
    "total_budget = sum(budget for _, budget in movies)\n",
    "average_budget = total_budget / len(movies)\n",
    "\n",
    "# Display results for movies above average budget\n",
    "print(\"\\nMovies with above-average budgets:\\n\" + \"-\" * 40)\n",
    "above_average_count = 0\n",
    "\n",
    "for title, budget in movies:\n",
    "    if budget > average_budget:\n",
    "        difference = budget - average_budget\n",
    "        print(f\"{title} → ${budget:,.0f} (Above average by ${difference:,.2f})\")\n",
    "        above_average_count += 1\n",
    "\n",
    "print(\"\\n\" + \"-\" * 40)\n",
    "print(f\"Total movies analyzed: {len(movies)}\")\n",
    "print(f\"Average movie budget: ${average_budget:,.2f}\")\n",
    "print(f\"Movies above average budget: {above_average_count}\")\n"
   ]
  },
  {
   "cell_type": "code",
   "execution_count": null,
   "id": "191aa712",
   "metadata": {},
   "outputs": [],
   "source": []
  }
 ],
 "metadata": {
  "kernelspec": {
   "display_name": "base",
   "language": "python",
   "name": "python3"
  },
  "language_info": {
   "codemirror_mode": {
    "name": "ipython",
    "version": 3
   },
   "file_extension": ".py",
   "mimetype": "text/x-python",
   "name": "python",
   "nbconvert_exporter": "python",
   "pygments_lexer": "ipython3",
   "version": "3.13.5"
  }
 },
 "nbformat": 4,
 "nbformat_minor": 5
}
