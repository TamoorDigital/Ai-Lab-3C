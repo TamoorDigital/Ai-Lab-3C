{
 "cells": [
  {
   "cell_type": "code",
   "execution_count": 4,
   "id": "2e886d93",
   "metadata": {},
   "outputs": [
    {
     "name": "stdout",
     "output_type": "stream",
     "text": [
      "\n",
      "Cleaned Text:\n",
      "oajff slkfwef    l sdnewfwf\n"
     ]
    }
   ],
   "source": [
    "# text_cleaner.py\n",
    "\n",
    "def remove_special_characters(text) -> str:\n",
    "  \n",
    "    cleaned_text = \"\"\n",
    "    for char in text:\n",
    "        # Keep only letters, digits, and spaces\n",
    "        if char.isalnum() or char == \" \":\n",
    "            cleaned_text += char\n",
    "        else:\n",
    "            cleaned_text += \" \"\n",
    "    return cleaned_text\n",
    "\n",
    "\n",
    "# Example usage\n",
    "if __name__ == \"__main__\":\n",
    "    sample_text = input(\"Enter text to clean (press Enter for default): \").strip()\n",
    "    result = remove_special_characters(sample_text or \"Kch bhe; :kuch, bhe!\")\n",
    "    print(\"\\nCleaned Text:\")\n",
    "    print(result)\n"
   ]
  },
  {
   "cell_type": "code",
   "execution_count": 5,
   "id": "3c6b893e",
   "metadata": {},
   "outputs": [
    {
     "name": "stdout",
     "output_type": "stream",
     "text": [
      "Words sorted by first character: Ahsan Ejaz Hafeez My Muhammad Tamoor is name shafi\n",
      "Characters sorted alphabetically: AEHMMTaaaaaaaadeeeffhhhiijmmmmnnoorsssuyzz\n"
     ]
    }
   ],
   "source": [
    "# text_sorter.py\n",
    "\n",
    "name_text = \"My name is Muhammad Tamoor Ejaz Ahsan Hafeez shafi\"\n",
    "\n",
    "# Sort words by the ASCII value of their first character\n",
    "sorted_words = \" \".join(sorted(name_text.split(), key=lambda word: ord(word[0])))\n",
    "\n",
    "# Sort all characters alphabetically, ignoring spaces\n",
    "sorted_characters = \"\".join(sorted(name_text.replace(\" \", \"\"), key=ord))\n",
    "\n",
    "print(\"Words sorted by first character:\", sorted_words)\n",
    "print(\"Characters sorted alphabetically:\", sorted_characters)\n"
   ]
  },
  {
   "cell_type": "code",
   "execution_count": 7,
   "id": "28b9bddb",
   "metadata": {},
   "outputs": [
    {
     "name": "stdout",
     "output_type": "stream",
     "text": [
      "Invalid\n"
     ]
    }
   ],
   "source": [
    "#Card Validator\n",
    "def card_check(number: str) -> bool:\n",
    "    number = number.replace(\" \", \"\")\n",
    "    total = 0\n",
    "    reverse_digits = number[::-1]\n",
    "\n",
    "    for i, ch in enumerate(reverse_digits):\n",
    "        d = int(ch)\n",
    "        if i % 2 == 1:\n",
    "            d *= 2\n",
    "            if d > 9:\n",
    "                d -= 9\n",
    "        total += d\n",
    "\n",
    "    return total % 10 == 0\n",
    "\n",
    "\n",
    "n = input(\"Enter card number: \")\n",
    "if card_check(n):\n",
    "    print(\"Valid\")\n",
    "else:\n",
    "    print(\"Invalid\")\n"
   ]
  }
 ],
 "metadata": {
  "kernelspec": {
   "display_name": "base",
   "language": "python",
   "name": "python3"
  },
  "language_info": {
   "codemirror_mode": {
    "name": "ipython",
    "version": 3
   },
   "file_extension": ".py",
   "mimetype": "text/x-python",
   "name": "python",
   "nbconvert_exporter": "python",
   "pygments_lexer": "ipython3",
   "version": "3.13.5"
  }
 },
 "nbformat": 4,
 "nbformat_minor": 5
}
